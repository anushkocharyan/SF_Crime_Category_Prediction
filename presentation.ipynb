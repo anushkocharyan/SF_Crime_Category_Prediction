{
 "cells": [
  {
   "cell_type": "markdown",
   "metadata": {
    "slideshow": {
     "slide_type": "slide"
    }
   },
   "source": [
    "## Predicting Crime Category in San Francisco\n",
    "\n",
    "### Team \"Aaaaaaaah\": Yihan, Harrison, Wendy, Anush, Marwa"
   ]
  },
  {
   "cell_type": "markdown",
   "metadata": {
    "slideshow": {
     "slide_type": "slide"
    }
   },
   "source": [
    "## 1. Research Question and Data\n",
    "## 2. EDA\n",
    "## 3. Feature Engineering\n",
    "## 4. "
   ]
  },
  {
   "cell_type": "markdown",
   "metadata": {
    "slideshow": {
     "slide_type": "slide"
    }
   },
   "source": [
    "## 1. Research Question and Data\n",
    "\n",
    "### Can we predict the category of crime that occurrred, using only time and location data?\n",
    "\n",
    "### We will focus on three categories: theft, violent, and deviant"
   ]
  },
  {
   "cell_type": "code",
   "execution_count": 19,
   "metadata": {
    "slideshow": {
     "slide_type": "skip"
    }
   },
   "outputs": [],
   "source": [
    "import pandas as pd\n",
    "import numpy as np"
   ]
  },
  {
   "cell_type": "code",
   "execution_count": 20,
   "metadata": {
    "slideshow": {
     "slide_type": "skip"
    }
   },
   "outputs": [],
   "source": [
    "crime = pd.read_csv(\"data/train.csv\", parse_dates = ['Dates'])"
   ]
  },
  {
   "cell_type": "code",
   "execution_count": 21,
   "metadata": {
    "slideshow": {
     "slide_type": "skip"
    }
   },
   "outputs": [],
   "source": [
    "# Delete most categories\n",
    "keep = [\"ASSAULT\",'SEX OFFENSES FORCIBLE', \"DRUG/NARCOTIC\",'DRUNKENNESS', \"PROSTITUTION\", \n",
    " \"BURGLARY\",'LARCENY/THEFT', \"STOLEN PROPERTY\", \"TRESPASS\", \"ROBBERY\", \"THEFT\", \"VEHICLE THEFT\"]\n",
    "\n",
    "crime = crime[crime['Category'].isin(keep)]\n",
    "\n",
    "# Group into three broader categories\n",
    "crime.replace([\"BURGLARY\",'LARCENY/THEFT', \"STOLEN PROPERTY\", \"TRESPASS\", \"ROBBERY\",\n",
    "              \"THEFT\", \"VEHICLE THEFT\"], \"theft\", inplace=True)\n",
    "\n",
    "crime.replace([\"ASSAULT\",'SEX OFFENSES FORCIBLE'], \"violent\", inplace=True)\n",
    "\n",
    "crime.replace([\"DRUG/NARCOTIC\",'DRUNKENNESS', \"PROSTITUTION\"], \"deviant\", inplace=True)"
   ]
  },
  {
   "cell_type": "markdown",
   "metadata": {
    "slideshow": {
     "slide_type": "slide"
    }
   },
   "source": [
    "## 2. EDA"
   ]
  },
  {
   "cell_type": "code",
   "execution_count": 22,
   "metadata": {
    "slideshow": {
     "slide_type": "skip"
    }
   },
   "outputs": [
    {
     "data": {
      "text/plain": [
       "theft      300302\n",
       "violent     81264\n",
       "deviant     65735\n",
       "Name: Category, dtype: int64"
      ]
     },
     "execution_count": 22,
     "metadata": {},
     "output_type": "execute_result"
    }
   ],
   "source": [
    "# Need to visualize this\n",
    "crime.Category.value_counts()"
   ]
  },
  {
   "cell_type": "code",
   "execution_count": null,
   "metadata": {},
   "outputs": [],
   "source": []
  }
 ],
 "metadata": {
  "celltoolbar": "Slideshow",
  "kernelspec": {
   "display_name": "Python 3",
   "language": "python",
   "name": "python3"
  },
  "language_info": {
   "codemirror_mode": {
    "name": "ipython",
    "version": 3
   },
   "file_extension": ".py",
   "mimetype": "text/x-python",
   "name": "python",
   "nbconvert_exporter": "python",
   "pygments_lexer": "ipython3",
   "version": "3.6.6"
  }
 },
 "nbformat": 4,
 "nbformat_minor": 2
}
