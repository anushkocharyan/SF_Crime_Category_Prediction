{
 "cells": [
  {
   "cell_type": "markdown",
   "metadata": {},
   "source": [
    "Final Project Check-in 2018-11-14\n",
    "------"
   ]
  },
  {
   "cell_type": "markdown",
   "metadata": {},
   "source": [
    "Group Name\n",
    "-----"
   ]
  },
  {
   "cell_type": "markdown",
   "metadata": {},
   "source": [
    "Aaaaaaaah"
   ]
  },
  {
   "cell_type": "markdown",
   "metadata": {},
   "source": [
    "Student Names\n",
    "----"
   ]
  },
  {
   "cell_type": "markdown",
   "metadata": {},
   "source": [
    "1. Yihan Wang\n",
    "2. Harrison Mamin\n",
    "3. Wendy Xiao\n",
    "4. Anush Kocharyan\n",
    "5. Marwa Oussaifi"
   ]
  },
  {
   "cell_type": "markdown",
   "metadata": {},
   "source": [
    "Load Data\n",
    "-----"
   ]
  },
  {
   "cell_type": "code",
   "execution_count": 64,
   "metadata": {},
   "outputs": [],
   "source": [
    "import pandas as pd\n",
    "import numpy as np"
   ]
  },
  {
   "cell_type": "code",
   "execution_count": 65,
   "metadata": {},
   "outputs": [],
   "source": [
    "crime = pd.read_csv(\"~/data/train.csv\", parse_dates = ['Dates'])"
   ]
  },
  {
   "cell_type": "code",
   "execution_count": 66,
   "metadata": {},
   "outputs": [],
   "source": [
    "# Re-label crimes that belong in the same category\n",
    "crime['Category'].replace('TREA', 'TRESPASS', inplace=True)"
   ]
  },
  {
   "cell_type": "code",
   "execution_count": 67,
   "metadata": {},
   "outputs": [],
   "source": [
    "# Drop non-crimes and generic categories\n",
    "drop = [\"NON-CRIMINAL\", \"WARRANTS\", \"MISSING PERSON\", \"SUSPICIOUS OCC\", \"SUICIDE\", \"RECOVERED VEHICLE\", \"OTHER OFFENSES\"]\n",
    "crime = crime[~crime['Category'].isin(drop)]"
   ]
  },
  {
   "cell_type": "code",
   "execution_count": 77,
   "metadata": {},
   "outputs": [
    {
     "data": {
      "text/plain": [
       "Category\n",
       "ARSON                            1513\n",
       "ASSAULT                         76876\n",
       "BAD CHECKS                        406\n",
       "BRIBERY                           289\n",
       "BURGLARY                        36755\n",
       "DISORDERLY CONDUCT               4320\n",
       "DRIVING UNDER THE INFLUENCE      2268\n",
       "DRUG/NARCOTIC                   53971\n",
       "DRUNKENNESS                      4280\n",
       "EMBEZZLEMENT                     1166\n",
       "EXTORTION                         256\n",
       "FAMILY OFFENSES                   491\n",
       "FORGERY/COUNTERFEITING          10609\n",
       "FRAUD                           16679\n",
       "GAMBLING                          146\n",
       "KIDNAPPING                       2341\n",
       "LARCENY/THEFT                  174900\n",
       "LIQUOR LAWS                      1903\n",
       "LOITERING                        1225\n",
       "PORNOGRAPHY/OBSCENE MAT            22\n",
       "PROSTITUTION                     7484\n",
       "ROBBERY                         23000\n",
       "RUNAWAY                          1946\n",
       "SECONDARY CODES                  9985\n",
       "SEX OFFENSES FORCIBLE            4388\n",
       "SEX OFFENSES NON FORCIBLE         148\n",
       "STOLEN PROPERTY                  4540\n",
       "TRESPASS                         7332\n",
       "VANDALISM                       44725\n",
       "VEHICLE THEFT                   53781\n",
       "WEAPON LAWS                      8555\n",
       "dtype: int64"
      ]
     },
     "execution_count": 77,
     "metadata": {},
     "output_type": "execute_result"
    }
   ],
   "source": [
    "# Class sizes\n",
    "crime.groupby(crime['Category']).size()"
   ]
  },
  {
   "cell_type": "markdown",
   "metadata": {},
   "source": [
    "Because there are 31 crime categories that are highly imbalanced, we will instead try to predict whether a crime is violent or not. One of our next step is to do this target engineering."
   ]
  },
  {
   "cell_type": "code",
   "execution_count": 69,
   "metadata": {},
   "outputs": [],
   "source": [
    "# Initial feature engineering\n",
    "dow = pd.get_dummies(crime['DayOfWeek'])\n",
    "district = pd.get_dummies(crime['PdDistrict'])\n",
    "\n",
    "X = pd.concat((dow, district), axis=1)\n",
    "y = crime['Category']"
   ]
  },
  {
   "cell_type": "markdown",
   "metadata": {},
   "source": [
    "Fit scikit-learn model\n",
    "----"
   ]
  },
  {
   "cell_type": "code",
   "execution_count": 70,
   "metadata": {},
   "outputs": [],
   "source": [
    "from sklearn.tree import DecisionTreeClassifier\n",
    "from sklearn.model_selection import train_test_split\n",
    "from sklearn.metrics import confusion_matrix, precision_score, recall_score"
   ]
  },
  {
   "cell_type": "code",
   "execution_count": 71,
   "metadata": {},
   "outputs": [],
   "source": [
    "X_train, X_test, y_train, y_test = train_test_split(X, y, test_size=0.2, \n",
    "                                                    random_state=42)"
   ]
  },
  {
   "cell_type": "code",
   "execution_count": 72,
   "metadata": {},
   "outputs": [],
   "source": [
    "clf_tree = DecisionTreeClassifier(criterion='entropy')\n",
    "clf_tree = clf_tree.fit(X_train, y_train)\n",
    "y_predicted = clf_tree.predict(X_test)"
   ]
  },
  {
   "cell_type": "markdown",
   "metadata": {},
   "source": [
    "Evaluation Metric\n",
    "----"
   ]
  },
  {
   "cell_type": "code",
   "execution_count": 86,
   "metadata": {},
   "outputs": [
    {
     "data": {
      "text/plain": [
       "array(['LARCENY/THEFT', 'VEHICLE THEFT', 'VANDALISM', 'ROBBERY',\n",
       "       'ASSAULT', 'WEAPON LAWS', 'BURGLARY', 'DRUNKENNESS',\n",
       "       'FORGERY/COUNTERFEITING', 'DRUG/NARCOTIC', 'STOLEN PROPERTY',\n",
       "       'SECONDARY CODES', 'TRESPASS', 'FRAUD', 'KIDNAPPING', 'RUNAWAY',\n",
       "       'DRIVING UNDER THE INFLUENCE', 'SEX OFFENSES FORCIBLE',\n",
       "       'PROSTITUTION', 'DISORDERLY CONDUCT', 'ARSON', 'FAMILY OFFENSES',\n",
       "       'LIQUOR LAWS', 'BRIBERY', 'EMBEZZLEMENT', 'LOITERING',\n",
       "       'SEX OFFENSES NON FORCIBLE', 'EXTORTION', 'GAMBLING', 'BAD CHECKS',\n",
       "       'PORNOGRAPHY/OBSCENE MAT'], dtype=object)"
      ]
     },
     "execution_count": 86,
     "metadata": {},
     "output_type": "execute_result"
    }
   ],
   "source": [
    "# Labels for confusion matrix and marginal precision and recall\n",
    "labels = crime['Category'].unique()"
   ]
  },
  {
   "cell_type": "code",
   "execution_count": 87,
   "metadata": {},
   "outputs": [
    {
     "data": {
      "text/plain": [
       "array([[31444,     0,     0,     0,  1390,     0,     0,     0,     0,\n",
       "         1982,     0,     0,     0,     0,     0,     0,     0,     0,\n",
       "            0,     0,     0,     0,     0,     0,     0,     0,     0,\n",
       "            0,     0,     0,     0],\n",
       "       [ 9487,     0,     0,     0,  1125,     0,     0,     0,     0,\n",
       "          213,     0,     0,     0,     0,     0,     0,     0,     0,\n",
       "            0,     0,     0,     0,     0,     0,     0,     0,     0,\n",
       "            0,     0,     0,     0],\n",
       "       [ 7769,     0,     0,     0,   773,     0,     0,     0,     0,\n",
       "          331,     0,     0,     0,     0,     0,     0,     0,     0,\n",
       "            0,     0,     0,     0,     0,     0,     0,     0,     0,\n",
       "            0,     0,     0,     0],\n",
       "       [ 3754,     0,     0,     0,   392,     0,     0,     0,     0,\n",
       "          416,     0,     0,     0,     0,     0,     0,     0,     0,\n",
       "            0,     0,     0,     0,     0,     0,     0,     0,     0,\n",
       "            0,     0,     0,     0],\n",
       "       [12655,     0,     0,     0,  1402,     0,     0,     0,     0,\n",
       "         1540,     0,     0,     0,     0,     0,     0,     0,     0,\n",
       "            0,     0,     0,     0,     0,     0,     0,     0,     0,\n",
       "            0,     0,     0,     0],\n",
       "       [ 1321,     0,     0,     0,   199,     0,     0,     0,     0,\n",
       "          137,     0,     0,     0,     0,     0,     0,     0,     0,\n",
       "            0,     0,     0,     0,     0,     0,     0,     0,     0,\n",
       "            0,     0,     0,     0],\n",
       "       [ 6448,     0,     0,     0,   462,     0,     0,     0,     0,\n",
       "          304,     0,     0,     0,     0,     0,     0,     0,     0,\n",
       "            0,     0,     0,     0,     0,     0,     0,     0,     0,\n",
       "            0,     0,     0,     0],\n",
       "       [  746,     0,     0,     0,    31,     0,     0,     0,     0,\n",
       "           93,     0,     0,     0,     0,     0,     0,     0,     0,\n",
       "            0,     0,     0,     0,     0,     0,     0,     0,     0,\n",
       "            0,     0,     0,     0],\n",
       "       [ 1921,     0,     0,     0,    89,     0,     0,     0,     0,\n",
       "          114,     0,     0,     0,     0,     0,     0,     0,     0,\n",
       "            0,     0,     0,     0,     0,     0,     0,     0,     0,\n",
       "            0,     0,     0,     0],\n",
       "       [ 6790,     0,     0,     0,   521,     0,     0,     0,     0,\n",
       "         3550,     0,     0,     0,     0,     0,     0,     0,     0,\n",
       "            0,     0,     0,     0,     0,     0,     0,     0,     0,\n",
       "            0,     0,     0,     0],\n",
       "       [  816,     0,     0,     0,    31,     0,     0,     0,     0,\n",
       "           87,     0,     0,     0,     0,     0,     0,     0,     0,\n",
       "            0,     0,     0,     0,     0,     0,     0,     0,     0,\n",
       "            0,     0,     0,     0],\n",
       "       [ 1539,     0,     0,     0,   225,     0,     0,     0,     0,\n",
       "          144,     0,     0,     0,     0,     0,     0,     0,     0,\n",
       "            0,     0,     0,     0,     0,     0,     0,     0,     0,\n",
       "            0,     0,     0,     0],\n",
       "       [ 1188,     0,     0,     0,    76,     0,     0,     0,     0,\n",
       "          228,     0,     0,     0,     0,     0,     0,     0,     0,\n",
       "            0,     0,     0,     0,     0,     0,     0,     0,     0,\n",
       "            0,     0,     0,     0],\n",
       "       [ 3061,     0,     0,     0,   120,     0,     0,     0,     0,\n",
       "          234,     0,     0,     0,     0,     0,     0,     0,     0,\n",
       "            0,     0,     0,     0,     0,     0,     0,     0,     0,\n",
       "            0,     0,     0,     0],\n",
       "       [  409,     0,     0,     0,    53,     0,     0,     0,     0,\n",
       "           34,     0,     0,     0,     0,     0,     0,     0,     0,\n",
       "            0,     0,     0,     0,     0,     0,     0,     0,     0,\n",
       "            0,     0,     0,     0],\n",
       "       [  368,     0,     0,     0,    37,     0,     0,     0,     0,\n",
       "            0,     0,     0,     0,     0,     0,     0,     0,     0,\n",
       "            0,     0,     0,     0,     0,     0,     0,     0,     0,\n",
       "            0,     0,     0,     0],\n",
       "       [  408,     0,     0,     0,    48,     0,     0,     0,     0,\n",
       "           12,     0,     0,     0,     0,     0,     0,     0,     0,\n",
       "            0,     0,     0,     0,     0,     0,     0,     0,     0,\n",
       "            0,     0,     0,     0],\n",
       "       [  768,     0,     0,     0,    70,     0,     0,     0,     0,\n",
       "           67,     0,     0,     0,     0,     0,     0,     0,     0,\n",
       "            0,     0,     0,     0,     0,     0,     0,     0,     0,\n",
       "            0,     0,     0,     0],\n",
       "       [ 1301,     0,     0,     0,    10,     0,     0,     0,     0,\n",
       "          154,     0,     0,     0,     0,     0,     0,     0,     0,\n",
       "            0,     0,     0,     0,     0,     0,     0,     0,     0,\n",
       "            0,     0,     0,     0],\n",
       "       [  688,     0,     0,     0,    21,     0,     0,     0,     0,\n",
       "          162,     0,     0,     0,     0,     0,     0,     0,     0,\n",
       "            0,     0,     0,     0,     0,     0,     0,     0,     0,\n",
       "            0,     0,     0,     0],\n",
       "       [  214,     0,     0,     0,    55,     0,     0,     0,     0,\n",
       "           11,     0,     0,     0,     0,     0,     0,     0,     0,\n",
       "            0,     0,     0,     0,     0,     0,     0,     0,     0,\n",
       "            0,     0,     0,     0],\n",
       "       [   80,     0,     0,     0,    15,     0,     0,     0,     0,\n",
       "            4,     0,     0,     0,     0,     0,     0,     0,     0,\n",
       "            0,     0,     0,     0,     0,     0,     0,     0,     0,\n",
       "            0,     0,     0,     0],\n",
       "       [  328,     0,     0,     0,    16,     0,     0,     0,     0,\n",
       "           38,     0,     0,     0,     0,     0,     0,     0,     0,\n",
       "            0,     0,     0,     0,     0,     0,     0,     0,     0,\n",
       "            0,     0,     0,     0],\n",
       "       [   51,     0,     0,     0,     7,     0,     0,     0,     0,\n",
       "            1,     0,     0,     0,     0,     0,     0,     0,     0,\n",
       "            0,     0,     0,     0,     0,     0,     0,     0,     0,\n",
       "            0,     0,     0,     0],\n",
       "       [  215,     0,     0,     0,    12,     0,     0,     0,     0,\n",
       "           14,     0,     0,     0,     0,     0,     0,     0,     0,\n",
       "            0,     0,     0,     0,     0,     0,     0,     0,     0,\n",
       "            0,     0,     0,     0],\n",
       "       [  200,     0,     0,     0,     7,     0,     0,     0,     0,\n",
       "           41,     0,     0,     0,     0,     0,     0,     0,     0,\n",
       "            0,     0,     0,     0,     0,     0,     0,     0,     0,\n",
       "            0,     0,     0,     0],\n",
       "       [   30,     0,     0,     0,     4,     0,     0,     0,     0,\n",
       "            1,     0,     0,     0,     0,     0,     0,     0,     0,\n",
       "            0,     0,     0,     0,     0,     0,     0,     0,     0,\n",
       "            0,     0,     0,     0],\n",
       "       [   46,     0,     0,     0,     2,     0,     0,     0,     0,\n",
       "            3,     0,     0,     0,     0,     0,     0,     0,     0,\n",
       "            0,     0,     0,     0,     0,     0,     0,     0,     0,\n",
       "            0,     0,     0,     0],\n",
       "       [   20,     0,     0,     0,     6,     0,     0,     0,     0,\n",
       "            1,     0,     0,     0,     0,     0,     0,     0,     0,\n",
       "            0,     0,     0,     0,     0,     0,     0,     0,     0,\n",
       "            0,     0,     0,     0],\n",
       "       [   72,     0,     0,     0,     4,     0,     0,     0,     0,\n",
       "            1,     0,     0,     0,     0,     0,     0,     0,     0,\n",
       "            0,     0,     0,     0,     0,     0,     0,     0,     0,\n",
       "            0,     0,     0,     0],\n",
       "       [    3,     0,     0,     0,     0,     0,     0,     0,     0,\n",
       "            0,     0,     0,     0,     0,     0,     0,     0,     0,\n",
       "            0,     0,     0,     0,     0,     0,     0,     0,     0,\n",
       "            0,     0,     0,     0]])"
      ]
     },
     "execution_count": 87,
     "metadata": {},
     "output_type": "execute_result"
    }
   ],
   "source": [
    "confusion_matrix(y_test, y_predicted, labels=labels)"
   ]
  },
  {
   "cell_type": "code",
   "execution_count": 88,
   "metadata": {},
   "outputs": [
    {
     "name": "stderr",
     "output_type": "stream",
     "text": [
      "/anaconda3/lib/python3.6/site-packages/sklearn/metrics/classification.py:1135: UndefinedMetricWarning: Precision is ill-defined and being set to 0.0 in labels with no predicted samples.\n",
      "  'precision', 'predicted', average, warn_for)\n"
     ]
    },
    {
     "data": {
      "text/plain": [
       "array([0.33401317, 0.        , 0.        , 0.        , 0.19464112,\n",
       "       0.        , 0.        , 0.        , 0.        , 0.35797116,\n",
       "       0.        , 0.        , 0.        , 0.        , 0.        ,\n",
       "       0.        , 0.        , 0.        , 0.        , 0.        ,\n",
       "       0.        , 0.        , 0.        , 0.        , 0.        ,\n",
       "       0.        , 0.        , 0.        , 0.        , 0.        ,\n",
       "       0.        ])"
      ]
     },
     "execution_count": 88,
     "metadata": {},
     "output_type": "execute_result"
    }
   ],
   "source": [
    "precision_score(y_test, y_predicted, labels=labels, average=None)"
   ]
  },
  {
   "cell_type": "code",
   "execution_count": 89,
   "metadata": {},
   "outputs": [
    {
     "data": {
      "text/plain": [
       "array([0.90314798, 0.        , 0.        , 0.        , 0.08988908,\n",
       "       0.        , 0.        , 0.        , 0.        , 0.32685756,\n",
       "       0.        , 0.        , 0.        , 0.        , 0.        ,\n",
       "       0.        , 0.        , 0.        , 0.        , 0.        ,\n",
       "       0.        , 0.        , 0.        , 0.        , 0.        ,\n",
       "       0.        , 0.        , 0.        , 0.        , 0.        ,\n",
       "       0.        ])"
      ]
     },
     "execution_count": 89,
     "metadata": {},
     "output_type": "execute_result"
    }
   ],
   "source": [
    "recall_score(y_test, y_predicted, labels=labels, average=None)"
   ]
  }
 ],
 "metadata": {
  "kernelspec": {
   "display_name": "Python 3",
   "language": "python",
   "name": "python3"
  },
  "language_info": {
   "codemirror_mode": {
    "name": "ipython",
    "version": 3
   },
   "file_extension": ".py",
   "mimetype": "text/x-python",
   "name": "python",
   "nbconvert_exporter": "python",
   "pygments_lexer": "ipython3",
   "version": "3.6.6"
  }
 },
 "nbformat": 4,
 "nbformat_minor": 2
}
