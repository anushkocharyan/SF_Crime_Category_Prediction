{
 "cells": [
  {
   "cell_type": "markdown",
   "metadata": {},
   "source": [
    "Final Project Check-in 2018-11-14\n",
    "------"
   ]
  },
  {
   "cell_type": "markdown",
   "metadata": {},
   "source": [
    "Group Name\n",
    "-----"
   ]
  },
  {
   "cell_type": "markdown",
   "metadata": {},
   "source": [
    "Aaaaaaaah"
   ]
  },
  {
   "cell_type": "markdown",
   "metadata": {},
   "source": [
    "Student Names\n",
    "----"
   ]
  },
  {
   "cell_type": "markdown",
   "metadata": {},
   "source": [
    "1. Yihan Wang\n",
    "2. Harrison Mamin\n",
    "3. Wendy Xiao\n",
    "4. Anush Kocharyan\n",
    "5. Marwa Oussaifi"
   ]
  },
  {
   "cell_type": "markdown",
   "metadata": {},
   "source": [
    "Load Data\n",
    "-----"
   ]
  },
  {
   "cell_type": "code",
   "execution_count": 1,
   "metadata": {},
   "outputs": [],
   "source": [
    "import pandas as pd"
   ]
  },
  {
   "cell_type": "code",
   "execution_count": 2,
   "metadata": {},
   "outputs": [],
   "source": [
    "crime = pd.read_csv(\"~/data/train.csv\", parse_dates = ['Dates'])"
   ]
  },
  {
   "cell_type": "code",
   "execution_count": 4,
   "metadata": {},
   "outputs": [],
   "source": [
    "# Re-label crimes that belong in the same category\n",
    "crime['Category'].replace('TREA', 'TRESPASS', inplace=True)\n",
    "crime['Category'].replace(['SEX OFFENSES FORCIBLE', 'SEX OFFENSES NON FORCIBLE'], 'SEX OFFENSES', inplace=True)\n",
    "\n",
    "# Remove generic crimes\n",
    "crime = crime[(crime['Category'] != \"NON-CRIMINAL\") & (crime['Category'] != \"OTHER OFFENSES\")]"
   ]
  },
  {
   "cell_type": "code",
   "execution_count": 25,
   "metadata": {},
   "outputs": [
    {
     "data": {
      "text/plain": [
       "Category\n",
       "ARSON                            1513\n",
       "ASSAULT                         76876\n",
       "BAD CHECKS                        406\n",
       "BRIBERY                           289\n",
       "BURGLARY                        36755\n",
       "DISORDERLY CONDUCT               4320\n",
       "DRIVING UNDER THE INFLUENCE      2268\n",
       "DRUG/NARCOTIC                   53971\n",
       "DRUNKENNESS                      4280\n",
       "EMBEZZLEMENT                     1166\n",
       "EXTORTION                         256\n",
       "FAMILY OFFENSES                   491\n",
       "FORGERY/COUNTERFEITING          10609\n",
       "FRAUD                           16679\n",
       "GAMBLING                          146\n",
       "KIDNAPPING                       2341\n",
       "LARCENY/THEFT                  174900\n",
       "LIQUOR LAWS                      1903\n",
       "LOITERING                        1225\n",
       "MISSING PERSON                  25989\n",
       "PORNOGRAPHY/OBSCENE MAT            22\n",
       "PROSTITUTION                     7484\n",
       "RECOVERED VEHICLE                3138\n",
       "ROBBERY                         23000\n",
       "RUNAWAY                          1946\n",
       "SECONDARY CODES                  9985\n",
       "SEX OFFENSES                     4536\n",
       "STOLEN PROPERTY                  4540\n",
       "SUICIDE                           508\n",
       "SUSPICIOUS OCC                  31414\n",
       "TRESPASS                         7332\n",
       "VANDALISM                       44725\n",
       "VEHICLE THEFT                   53781\n",
       "WARRANTS                        42214\n",
       "WEAPON LAWS                      8555\n",
       "dtype: int64"
      ]
     },
     "execution_count": 25,
     "metadata": {},
     "output_type": "execute_result"
    }
   ],
   "source": [
    "# Class sizes\n",
    "crime.groupby(crime['Category']).size()"
   ]
  },
  {
   "cell_type": "code",
   "execution_count": 6,
   "metadata": {},
   "outputs": [],
   "source": [
    "dow = pd.get_dummies(crime['DayOfWeek'])\n",
    "district = pd.get_dummies(crime['PdDistrict'])\n",
    "\n",
    "X = pd.concat((dow, district), axis=1)\n",
    "y = crime['Category']"
   ]
  },
  {
   "cell_type": "markdown",
   "metadata": {},
   "source": [
    "Fit scikit-learn model\n",
    "----"
   ]
  },
  {
   "cell_type": "code",
   "execution_count": 8,
   "metadata": {},
   "outputs": [],
   "source": [
    "from sklearn.tree import DecisionTreeClassifier\n",
    "from sklearn.model_selection import train_test_split\n",
    "from sklearn.metrics import accuracy_score"
   ]
  },
  {
   "cell_type": "code",
   "execution_count": 10,
   "metadata": {},
   "outputs": [],
   "source": [
    "X_train, X_test, y_train, y_test = train_test_split(X, y, test_size=0.2, \n",
    "                                                    random_state=42)"
   ]
  },
  {
   "cell_type": "code",
   "execution_count": 12,
   "metadata": {},
   "outputs": [],
   "source": [
    "clf_tree = DecisionTreeClassifier()\n",
    "clf_tree = clf_tree.fit(X_train, y_train)\n",
    "y_predicted = clf_tree.predict(X_test)"
   ]
  },
  {
   "cell_type": "markdown",
   "metadata": {},
   "source": [
    "Evaluation Metric\n",
    "----"
   ]
  },
  {
   "cell_type": "code",
   "execution_count": 21,
   "metadata": {},
   "outputs": [
    {
     "name": "stdout",
     "output_type": "stream",
     "text": [
      "Model accuracy 27.66%\n"
     ]
    }
   ],
   "source": [
    "accuracy = accuracy_score(y_test, predicted)\n",
    "print(f'Model accuracy {accuracy:.2%}')"
   ]
  },
  {
   "cell_type": "code",
   "execution_count": null,
   "metadata": {},
   "outputs": [],
   "source": []
  }
 ],
 "metadata": {
  "kernelspec": {
   "display_name": "Python 3",
   "language": "python",
   "name": "python3"
  },
  "language_info": {
   "codemirror_mode": {
    "name": "ipython",
    "version": 3
   },
   "file_extension": ".py",
   "mimetype": "text/x-python",
   "name": "python",
   "nbconvert_exporter": "python",
   "pygments_lexer": "ipython3",
   "version": "3.6.0"
  }
 },
 "nbformat": 4,
 "nbformat_minor": 2
}
