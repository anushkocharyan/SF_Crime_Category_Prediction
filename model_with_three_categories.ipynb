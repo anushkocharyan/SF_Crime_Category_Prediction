{
 "cells": [
  {
   "cell_type": "code",
   "execution_count": 1,
   "metadata": {
    "collapsed": true
   },
   "outputs": [],
   "source": [
    "import pandas as pd\n",
    "import numpy as np"
   ]
  },
  {
   "cell_type": "code",
   "execution_count": 2,
   "metadata": {
    "collapsed": true
   },
   "outputs": [],
   "source": [
    "crime = pd.read_csv(\"train.csv\", parse_dates = ['Dates'])"
   ]
  },
  {
   "cell_type": "code",
   "execution_count": 3,
   "metadata": {
    "collapsed": true
   },
   "outputs": [],
   "source": [
    "crime['Category'].replace('TREA', 'TRESPASS', inplace=True)"
   ]
  },
  {
   "cell_type": "code",
   "execution_count": 3,
   "metadata": {
    "collapsed": true
   },
   "outputs": [],
   "source": [
    "# Delete most categories.\n",
    "\n",
    "drop = [\"NON-CRIMINAL\", \"MISSING PERSON\",\n",
    "        \"SUSPICIOUS OCC\", \"SUICIDE\", \"RECOVERED VEHICLE\", \"OTHER OFFENSES\",\n",
    "        \"BAD CHECKS\", \"BRIBERY\", \"EMBEZZLEMENT\", \"EXTORTION\", \"FAMILY OFFENSES\", \"GAMBLING\",\n",
    "        \"PORNOGRAPHY/OBSCENE MAT\", \"SECONDARY CODES\", \"SEX OFFENSES NON FORCIBLE\", \"ARSON\",\n",
    "        \"DISORDERLY CONDUCT\", \"DRIVING UNDER THE INFLUENCE\", \"WEAPON LAWS\", \"LIQUOR LAWS\",\n",
    "        \"LOITERING\",\"RUNAWAY\",\"WARRANTS\",\"FORGERY/COUNTERFEITING\",\"KIDNAPPING\",\"FRAUD\",\"VANDALISM\" ]\n",
    "crime = crime[~crime['Category'].isin(drop)]"
   ]
  },
  {
   "cell_type": "code",
   "execution_count": 4,
   "metadata": {
    "collapsed": true
   },
   "outputs": [],
   "source": [
    "# Three categories only: assault, drug and theft-related.\n",
    "\n",
    "crime.replace([\"ASSAULT\",'SEX OFFENSES FORCIBLE'],\"assault\",inplace=True)\n",
    "\n",
    "crime.replace([\"DRUG/NARCOTIC\",'DRUNKENNESS', \"PROSTITUTION\"],\"drug/drunkenness/prostitution\", inplace=True)\n",
    "\n",
    "crime.replace([\"BURGLARY\",'LARCENY/THEFT', \"STOLEN PROPERTY\", \"TRESPASS\", \"ROBBERY\",\n",
    "              \"THEFT\", \"VEHICLE THEFT\"],\"theft\", inplace=True)\n"
   ]
  },
  {
   "cell_type": "code",
   "execution_count": 5,
   "metadata": {},
   "outputs": [
    {
     "data": {
      "text/plain": [
       "Category\n",
       "TREA                                  6\n",
       "assault                           81264\n",
       "drug/drunkenness/prostitution     65735\n",
       "theft                            300302\n",
       "dtype: int64"
      ]
     },
     "execution_count": 5,
     "metadata": {},
     "output_type": "execute_result"
    }
   ],
   "source": [
    "crime.groupby(crime['Category']).size()"
   ]
  },
  {
   "cell_type": "code",
   "execution_count": 6,
   "metadata": {
    "collapsed": true
   },
   "outputs": [],
   "source": [
    "dow = pd.get_dummies(crime['DayOfWeek'])\n",
    "district = pd.get_dummies(crime['PdDistrict'])\n",
    "\n",
    "X = pd.concat((dow, district), axis=1)\n",
    "#X = district\n",
    "y = crime['Category']"
   ]
  },
  {
   "cell_type": "code",
   "execution_count": 7,
   "metadata": {
    "collapsed": true
   },
   "outputs": [],
   "source": [
    "from sklearn.tree import DecisionTreeClassifier\n",
    "from sklearn.model_selection import train_test_split\n",
    "from sklearn.metrics import accuracy_score"
   ]
  },
  {
   "cell_type": "code",
   "execution_count": 8,
   "metadata": {
    "collapsed": true
   },
   "outputs": [],
   "source": [
    "X_train, X_test, y_train, y_test = train_test_split(X, y, test_size=0.3, \n",
    "                                                    random_state=42)"
   ]
  },
  {
   "cell_type": "code",
   "execution_count": 9,
   "metadata": {
    "collapsed": true
   },
   "outputs": [],
   "source": [
    "clf_tree = DecisionTreeClassifier()\n",
    "clf_tree = clf_tree.fit(X_train, y_train)\n",
    "y_predicted = clf_tree.predict(X_test)"
   ]
  },
  {
   "cell_type": "code",
   "execution_count": 10,
   "metadata": {},
   "outputs": [
    {
     "data": {
      "text/plain": [
       "0.6799087880887975"
      ]
     },
     "execution_count": 10,
     "metadata": {},
     "output_type": "execute_result"
    }
   ],
   "source": [
    "accuracy_score(y_predicted, y_test)\n"
   ]
  },
  {
   "cell_type": "code",
   "execution_count": 11,
   "metadata": {
    "collapsed": true
   },
   "outputs": [],
   "source": [
    "from sklearn.pipeline import Pipeline\n",
    "from sklearn.model_selection import cross_val_score, KFold\n",
    "from sklearn.model_selection import GridSearchCV\n",
    "from sklearn.linear_model import LogisticRegression\n",
    "from sklearn.svm import SVC\n",
    "from sklearn.preprocessing import StandardScaler\n",
    "from sklearn.decomposition import PCA\n",
    "import warnings\n",
    "warnings.filterwarnings('ignore')\n"
   ]
  },
  {
   "cell_type": "code",
   "execution_count": 12,
   "metadata": {},
   "outputs": [],
   "source": [
    "# I am not able to run pipe_svm. My laptop keeps freezing.\n",
    "\n",
    "pipe_dt = Pipeline([('scl', StandardScaler()),          \n",
    "                    ('pca', PCA()),      \n",
    "                    ('clf', DecisionTreeClassifier())])\n",
    "\n",
    "pipe_lr = Pipeline([('scl', StandardScaler()),\n",
    "                    ('pca', PCA(n_components=2)),\n",
    "                    ('clf', LogisticRegression())])\n",
    "\n",
    "pipe_svm = Pipeline([('scl', StandardScaler()),\n",
    "                     ('pca', PCA(n_components=2)),\n",
    "                     ('clf', SVC())])"
   ]
  },
  {
   "cell_type": "code",
   "execution_count": 13,
   "metadata": {},
   "outputs": [
    {
     "data": {
      "text/plain": [
       "'0.6799'"
      ]
     },
     "execution_count": 13,
     "metadata": {},
     "output_type": "execute_result"
    }
   ],
   "source": [
    "# The grid search becomes extremely slow as you add parameters.\n",
    "\n",
    "dt_grid_params = dict(pca__n_components=[4,5])\n",
    "\n",
    "gs = GridSearchCV(estimator=pipe_dt,  \n",
    "                  param_grid=dt_grid_params,\n",
    "                  scoring='accuracy',\n",
    "                  cv=4)\n",
    "\n",
    "gs.fit(X_train, y_train)\n",
    "f\"{gs.score(X_test, y_test):.4f}\""
   ]
  },
  {
   "cell_type": "code",
   "execution_count": 14,
   "metadata": {},
   "outputs": [
    {
     "data": {
      "text/plain": [
       "{'pca__n_components': 5}"
      ]
     },
     "execution_count": 14,
     "metadata": {},
     "output_type": "execute_result"
    }
   ],
   "source": [
    "gs.best_params_ "
   ]
  },
  {
   "cell_type": "code",
   "execution_count": null,
   "metadata": {
    "collapsed": true
   },
   "outputs": [],
   "source": []
  }
 ],
 "metadata": {
  "kernelspec": {
   "display_name": "Python 3",
   "language": "python",
   "name": "python3"
  },
  "language_info": {
   "codemirror_mode": {
    "name": "ipython",
    "version": 3
   },
   "file_extension": ".py",
   "mimetype": "text/x-python",
   "name": "python",
   "nbconvert_exporter": "python",
   "pygments_lexer": "ipython3",
   "version": "3.6.2"
  }
 },
 "nbformat": 4,
 "nbformat_minor": 2
}
